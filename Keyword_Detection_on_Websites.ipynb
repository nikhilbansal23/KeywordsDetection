{
  "nbformat": 4,
  "nbformat_minor": 0,
  "metadata": {
    "colab": {
      "provenance": [],
      "toc_visible": true,
      "mount_file_id": "1pykfGaovuL-Gt-YYgUCsk8etMIgqHvAV",
      "authorship_tag": "ABX9TyOjEqgsi0NN7tNrizjm5bgN",
      "include_colab_link": true
    },
    "kernelspec": {
      "name": "python3",
      "display_name": "Python 3"
    },
    "language_info": {
      "name": "python"
    }
  },
  "cells": [
    {
      "cell_type": "markdown",
      "metadata": {
        "id": "view-in-github",
        "colab_type": "text"
      },
      "source": [
        "<a href=\"https://colab.research.google.com/github/nikhilbansal23/WebsiteKeywordsDetection/blob/main/Keyword_Detection_on_Websites.ipynb\" target=\"_parent\"><img src=\"https://colab.research.google.com/assets/colab-badge.svg\" alt=\"Open In Colab\"/></a>"
      ]
    },
    {
      "cell_type": "code",
      "source": [
        "# pip install beautifulsoup4"
      ],
      "metadata": {
        "id": "cZ-kCJhMS_NN"
      },
      "execution_count": 43,
      "outputs": []
    },
    {
      "cell_type": "code",
      "execution_count": 1,
      "metadata": {
        "id": "VFAmc4IHNNOa"
      },
      "outputs": [],
      "source": [
        "import numpy as np # linear algebra\n",
        "import pandas as pd # data processing, CSV file I/O (e.g. pd.read_csv)\n",
        "import matplotlib.pyplot as plt\n",
        "import seaborn as sns\n",
        "import plotly.express as pl\n",
        "from bs4 import BeautifulSoup"
      ]
    },
    {
      "cell_type": "code",
      "source": [
        "pd.set_option('display.max_columns', None)\n",
        "pd.set_option('display.max_rows', None)\n",
        "pd.set_option('display.max_colwidth', None)"
      ],
      "metadata": {
        "id": "aoHUNZ-7PWpZ"
      },
      "execution_count": 2,
      "outputs": []
    },
    {
      "cell_type": "code",
      "source": [
        "train = pd.read_csv('/content/drive/MyDrive/Datasets/Keyword Detection on Websites/train.csv')\n",
        "test = pd.read_csv('/content/drive/MyDrive/Datasets/Keyword Detection on Websites/test.csv')\n",
        "keyboard_tumor = pd.read_csv('/content/drive/MyDrive/Datasets/Keyword Detection on Websites/keyword2tumor_type.csv')"
      ],
      "metadata": {
        "id": "KHyjicO8Olex"
      },
      "execution_count": 3,
      "outputs": []
    },
    {
      "cell_type": "code",
      "source": [
        "train.head()"
      ],
      "metadata": {
        "colab": {
          "base_uri": "https://localhost:8080/",
          "height": 204
        },
        "id": "Zm_PM56HO9qf",
        "outputId": "e7135d43-cd9f-4c6c-8731-8206e07d4b76"
      },
      "execution_count": 25,
      "outputs": [
        {
          "output_type": "execute_result",
          "data": {
            "text/plain": [
              "                                                 url  doc_id  label\n",
              "0  http://elbe-elster-klinikum.de/fachbereiche/ch...       1      1\n",
              "1  http://klinikum-bayreuth.de/einrichtungen/zent...       3      3\n",
              "2  http://klinikum-braunschweig.de/info.php/?id_o...       4      1\n",
              "3  http://klinikum-braunschweig.de/info.php/?id_o...       5      1\n",
              "4  http://klinikum-braunschweig.de/zuweiser/tumor...       6      3"
            ],
            "text/html": [
              "\n",
              "  <div id=\"df-773b3ecb-78c6-4293-addc-53fc987e11f5\" class=\"colab-df-container\">\n",
              "    <div>\n",
              "<style scoped>\n",
              "    .dataframe tbody tr th:only-of-type {\n",
              "        vertical-align: middle;\n",
              "    }\n",
              "\n",
              "    .dataframe tbody tr th {\n",
              "        vertical-align: top;\n",
              "    }\n",
              "\n",
              "    .dataframe thead th {\n",
              "        text-align: right;\n",
              "    }\n",
              "</style>\n",
              "<table border=\"1\" class=\"dataframe\">\n",
              "  <thead>\n",
              "    <tr style=\"text-align: right;\">\n",
              "      <th></th>\n",
              "      <th>url</th>\n",
              "      <th>doc_id</th>\n",
              "      <th>label</th>\n",
              "    </tr>\n",
              "  </thead>\n",
              "  <tbody>\n",
              "    <tr>\n",
              "      <th>0</th>\n",
              "      <td>http://elbe-elster-klinikum.de/fachbereiche/ch...</td>\n",
              "      <td>1</td>\n",
              "      <td>1</td>\n",
              "    </tr>\n",
              "    <tr>\n",
              "      <th>1</th>\n",
              "      <td>http://klinikum-bayreuth.de/einrichtungen/zent...</td>\n",
              "      <td>3</td>\n",
              "      <td>3</td>\n",
              "    </tr>\n",
              "    <tr>\n",
              "      <th>2</th>\n",
              "      <td>http://klinikum-braunschweig.de/info.php/?id_o...</td>\n",
              "      <td>4</td>\n",
              "      <td>1</td>\n",
              "    </tr>\n",
              "    <tr>\n",
              "      <th>3</th>\n",
              "      <td>http://klinikum-braunschweig.de/info.php/?id_o...</td>\n",
              "      <td>5</td>\n",
              "      <td>1</td>\n",
              "    </tr>\n",
              "    <tr>\n",
              "      <th>4</th>\n",
              "      <td>http://klinikum-braunschweig.de/zuweiser/tumor...</td>\n",
              "      <td>6</td>\n",
              "      <td>3</td>\n",
              "    </tr>\n",
              "  </tbody>\n",
              "</table>\n",
              "</div>\n",
              "    <div class=\"colab-df-buttons\">\n",
              "\n",
              "  <div class=\"colab-df-container\">\n",
              "    <button class=\"colab-df-convert\" onclick=\"convertToInteractive('df-773b3ecb-78c6-4293-addc-53fc987e11f5')\"\n",
              "            title=\"Convert this dataframe to an interactive table.\"\n",
              "            style=\"display:none;\">\n",
              "\n",
              "  <svg xmlns=\"http://www.w3.org/2000/svg\" height=\"24px\" viewBox=\"0 -960 960 960\">\n",
              "    <path d=\"M120-120v-720h720v720H120Zm60-500h600v-160H180v160Zm220 220h160v-160H400v160Zm0 220h160v-160H400v160ZM180-400h160v-160H180v160Zm440 0h160v-160H620v160ZM180-180h160v-160H180v160Zm440 0h160v-160H620v160Z\"/>\n",
              "  </svg>\n",
              "    </button>\n",
              "\n",
              "  <style>\n",
              "    .colab-df-container {\n",
              "      display:flex;\n",
              "      gap: 12px;\n",
              "    }\n",
              "\n",
              "    .colab-df-convert {\n",
              "      background-color: #E8F0FE;\n",
              "      border: none;\n",
              "      border-radius: 50%;\n",
              "      cursor: pointer;\n",
              "      display: none;\n",
              "      fill: #1967D2;\n",
              "      height: 32px;\n",
              "      padding: 0 0 0 0;\n",
              "      width: 32px;\n",
              "    }\n",
              "\n",
              "    .colab-df-convert:hover {\n",
              "      background-color: #E2EBFA;\n",
              "      box-shadow: 0px 1px 2px rgba(60, 64, 67, 0.3), 0px 1px 3px 1px rgba(60, 64, 67, 0.15);\n",
              "      fill: #174EA6;\n",
              "    }\n",
              "\n",
              "    .colab-df-buttons div {\n",
              "      margin-bottom: 4px;\n",
              "    }\n",
              "\n",
              "    [theme=dark] .colab-df-convert {\n",
              "      background-color: #3B4455;\n",
              "      fill: #D2E3FC;\n",
              "    }\n",
              "\n",
              "    [theme=dark] .colab-df-convert:hover {\n",
              "      background-color: #434B5C;\n",
              "      box-shadow: 0px 1px 3px 1px rgba(0, 0, 0, 0.15);\n",
              "      filter: drop-shadow(0px 1px 2px rgba(0, 0, 0, 0.3));\n",
              "      fill: #FFFFFF;\n",
              "    }\n",
              "  </style>\n",
              "\n",
              "    <script>\n",
              "      const buttonEl =\n",
              "        document.querySelector('#df-773b3ecb-78c6-4293-addc-53fc987e11f5 button.colab-df-convert');\n",
              "      buttonEl.style.display =\n",
              "        google.colab.kernel.accessAllowed ? 'block' : 'none';\n",
              "\n",
              "      async function convertToInteractive(key) {\n",
              "        const element = document.querySelector('#df-773b3ecb-78c6-4293-addc-53fc987e11f5');\n",
              "        const dataTable =\n",
              "          await google.colab.kernel.invokeFunction('convertToInteractive',\n",
              "                                                    [key], {});\n",
              "        if (!dataTable) return;\n",
              "\n",
              "        const docLinkHtml = 'Like what you see? Visit the ' +\n",
              "          '<a target=\"_blank\" href=https://colab.research.google.com/notebooks/data_table.ipynb>data table notebook</a>'\n",
              "          + ' to learn more about interactive tables.';\n",
              "        element.innerHTML = '';\n",
              "        dataTable['output_type'] = 'display_data';\n",
              "        await google.colab.output.renderOutput(dataTable, element);\n",
              "        const docLink = document.createElement('div');\n",
              "        docLink.innerHTML = docLinkHtml;\n",
              "        element.appendChild(docLink);\n",
              "      }\n",
              "    </script>\n",
              "  </div>\n",
              "\n",
              "\n",
              "<div id=\"df-932828a8-1c7c-48db-aa16-d29b78ed8f0f\">\n",
              "  <button class=\"colab-df-quickchart\" onclick=\"quickchart('df-932828a8-1c7c-48db-aa16-d29b78ed8f0f')\"\n",
              "            title=\"Suggest charts\"\n",
              "            style=\"display:none;\">\n",
              "\n",
              "<svg xmlns=\"http://www.w3.org/2000/svg\" height=\"24px\"viewBox=\"0 0 24 24\"\n",
              "     width=\"24px\">\n",
              "    <g>\n",
              "        <path d=\"M19 3H5c-1.1 0-2 .9-2 2v14c0 1.1.9 2 2 2h14c1.1 0 2-.9 2-2V5c0-1.1-.9-2-2-2zM9 17H7v-7h2v7zm4 0h-2V7h2v10zm4 0h-2v-4h2v4z\"/>\n",
              "    </g>\n",
              "</svg>\n",
              "  </button>\n",
              "\n",
              "<style>\n",
              "  .colab-df-quickchart {\n",
              "      --bg-color: #E8F0FE;\n",
              "      --fill-color: #1967D2;\n",
              "      --hover-bg-color: #E2EBFA;\n",
              "      --hover-fill-color: #174EA6;\n",
              "      --disabled-fill-color: #AAA;\n",
              "      --disabled-bg-color: #DDD;\n",
              "  }\n",
              "\n",
              "  [theme=dark] .colab-df-quickchart {\n",
              "      --bg-color: #3B4455;\n",
              "      --fill-color: #D2E3FC;\n",
              "      --hover-bg-color: #434B5C;\n",
              "      --hover-fill-color: #FFFFFF;\n",
              "      --disabled-bg-color: #3B4455;\n",
              "      --disabled-fill-color: #666;\n",
              "  }\n",
              "\n",
              "  .colab-df-quickchart {\n",
              "    background-color: var(--bg-color);\n",
              "    border: none;\n",
              "    border-radius: 50%;\n",
              "    cursor: pointer;\n",
              "    display: none;\n",
              "    fill: var(--fill-color);\n",
              "    height: 32px;\n",
              "    padding: 0;\n",
              "    width: 32px;\n",
              "  }\n",
              "\n",
              "  .colab-df-quickchart:hover {\n",
              "    background-color: var(--hover-bg-color);\n",
              "    box-shadow: 0 1px 2px rgba(60, 64, 67, 0.3), 0 1px 3px 1px rgba(60, 64, 67, 0.15);\n",
              "    fill: var(--button-hover-fill-color);\n",
              "  }\n",
              "\n",
              "  .colab-df-quickchart-complete:disabled,\n",
              "  .colab-df-quickchart-complete:disabled:hover {\n",
              "    background-color: var(--disabled-bg-color);\n",
              "    fill: var(--disabled-fill-color);\n",
              "    box-shadow: none;\n",
              "  }\n",
              "\n",
              "  .colab-df-spinner {\n",
              "    border: 2px solid var(--fill-color);\n",
              "    border-color: transparent;\n",
              "    border-bottom-color: var(--fill-color);\n",
              "    animation:\n",
              "      spin 1s steps(1) infinite;\n",
              "  }\n",
              "\n",
              "  @keyframes spin {\n",
              "    0% {\n",
              "      border-color: transparent;\n",
              "      border-bottom-color: var(--fill-color);\n",
              "      border-left-color: var(--fill-color);\n",
              "    }\n",
              "    20% {\n",
              "      border-color: transparent;\n",
              "      border-left-color: var(--fill-color);\n",
              "      border-top-color: var(--fill-color);\n",
              "    }\n",
              "    30% {\n",
              "      border-color: transparent;\n",
              "      border-left-color: var(--fill-color);\n",
              "      border-top-color: var(--fill-color);\n",
              "      border-right-color: var(--fill-color);\n",
              "    }\n",
              "    40% {\n",
              "      border-color: transparent;\n",
              "      border-right-color: var(--fill-color);\n",
              "      border-top-color: var(--fill-color);\n",
              "    }\n",
              "    60% {\n",
              "      border-color: transparent;\n",
              "      border-right-color: var(--fill-color);\n",
              "    }\n",
              "    80% {\n",
              "      border-color: transparent;\n",
              "      border-right-color: var(--fill-color);\n",
              "      border-bottom-color: var(--fill-color);\n",
              "    }\n",
              "    90% {\n",
              "      border-color: transparent;\n",
              "      border-bottom-color: var(--fill-color);\n",
              "    }\n",
              "  }\n",
              "</style>\n",
              "\n",
              "  <script>\n",
              "    async function quickchart(key) {\n",
              "      const quickchartButtonEl =\n",
              "        document.querySelector('#' + key + ' button');\n",
              "      quickchartButtonEl.disabled = true;  // To prevent multiple clicks.\n",
              "      quickchartButtonEl.classList.add('colab-df-spinner');\n",
              "      try {\n",
              "        const charts = await google.colab.kernel.invokeFunction(\n",
              "            'suggestCharts', [key], {});\n",
              "      } catch (error) {\n",
              "        console.error('Error during call to suggestCharts:', error);\n",
              "      }\n",
              "      quickchartButtonEl.classList.remove('colab-df-spinner');\n",
              "      quickchartButtonEl.classList.add('colab-df-quickchart-complete');\n",
              "    }\n",
              "    (() => {\n",
              "      let quickchartButtonEl =\n",
              "        document.querySelector('#df-932828a8-1c7c-48db-aa16-d29b78ed8f0f button');\n",
              "      quickchartButtonEl.style.display =\n",
              "        google.colab.kernel.accessAllowed ? 'block' : 'none';\n",
              "    })();\n",
              "  </script>\n",
              "</div>\n",
              "\n",
              "    </div>\n",
              "  </div>\n"
            ]
          },
          "metadata": {},
          "execution_count": 25
        }
      ]
    },
    {
      "cell_type": "markdown",
      "source": [
        "# **Data Pre-Processing**"
      ],
      "metadata": {
        "id": "AMZ-zMNKW57v"
      }
    },
    {
      "cell_type": "code",
      "source": [
        "import requests\n",
        "from bs4 import BeautifulSoup\n",
        "import pandas as pd\n",
        "\n",
        "def extract_text(url):\n",
        "    try:\n",
        "        response = requests.get(url)\n",
        "        soup = BeautifulSoup(response.text, 'html.parser')\n",
        "        # Extract specific tags or text content based on HTML structure\n",
        "        # For example:\n",
        "        # text_content = soup.find('div', {'class': 'content'}).get_text()\n",
        "        # return text_content\n",
        "        return soup.get_text()  # This extracts all text content\n",
        "    except Exception as e:\n",
        "        print(f\"Error fetching content from {url}: {e}\")\n",
        "        return None\n",
        "\n",
        "# Apply the function to fetch text content for each URL in the DataFrame\n",
        "train['text_content'] = train['url'].apply(extract_text)\n",
        "\n"
      ],
      "metadata": {
        "colab": {
          "base_uri": "https://localhost:8080/"
        },
        "id": "gBVMqL86QIb7",
        "outputId": "97b3d3a0-77ae-4779-bd8a-c8f8d89eb86a"
      },
      "execution_count": 4,
      "outputs": [
        {
          "output_type": "stream",
          "name": "stdout",
          "text": [
            "Error fetching content from http://rendsburg.imland.de/de/thoraxchirurgie_kooperati/?f=1: HTTPConnectionPool(host='rendsburg.imland.de', port=80): Max retries exceeded with url: /de/thoraxchirurgie_kooperati/?f=1 (Caused by NameResolutionError(\"<urllib3.connection.HTTPConnection object at 0x78a0b85dde40>: Failed to resolve 'rendsburg.imland.de' ([Errno -2] Name or service not known)\"))\n",
            "Error fetching content from http://www.dasdiak.de/bildungsangebote/untermenue/vorsprung-durch-wissen-fort-und-weiterbildung/medizinische-kliniken-und-institute/details.html/?chash=8f2bd33e874f84770d633c55ade760ad&item=67: HTTPConnectionPool(host='www.dasdiak.de', port=80): Max retries exceeded with url: /bildungsangebote/untermenue/vorsprung-durch-wissen-fort-und-weiterbildung/medizinische-kliniken-und-institute/details.html/?chash=8f2bd33e874f84770d633c55ade760ad&item=67 (Caused by ConnectTimeoutError(<urllib3.connection.HTTPConnection object at 0x78a0b7b5c9a0>, 'Connection to www.dasdiak.de timed out. (connect timeout=None)'))\n",
            "Error fetching content from http://www.euregio-klinik.de/medizinische-angebote/klinik-f%C3%BCr-allgemein-und-viszeralchirugie/: Exceeded 30 redirects.\n",
            "Error fetching content from http://www.klinikum-westfalen.de/inhalt/kliniken_zentren_bereiche_kooperationen/zentren/dortmund/darm_zentrum/: HTTPSConnectionPool(host='www.klinikum-westfalen.de', port=443): Max retries exceeded with url: /inhalt/kliniken_zentren_bereiche_kooperationen/zentren/dortmund/darm_zentrum/ (Caused by SSLError(SSLCertVerificationError(1, '[SSL: CERTIFICATE_VERIFY_FAILED] certificate verify failed: unable to get local issuer certificate (_ssl.c:1007)')))\n"
          ]
        }
      ]
    },
    {
      "cell_type": "code",
      "source": [
        "df = train"
      ],
      "metadata": {
        "id": "cpx5C2-PcWRX"
      },
      "execution_count": 5,
      "outputs": []
    },
    {
      "cell_type": "code",
      "source": [
        "df.info()"
      ],
      "metadata": {
        "colab": {
          "base_uri": "https://localhost:8080/"
        },
        "id": "EhI1nH_WXKfm",
        "outputId": "ac967168-0a12-4731-87be-c559ab5a61b8"
      },
      "execution_count": 28,
      "outputs": [
        {
          "output_type": "stream",
          "name": "stdout",
          "text": [
            "<class 'pandas.core.frame.DataFrame'>\n",
            "RangeIndex: 100 entries, 0 to 99\n",
            "Data columns (total 4 columns):\n",
            " #   Column        Non-Null Count  Dtype \n",
            "---  ------        --------------  ----- \n",
            " 0   url           100 non-null    object\n",
            " 1   doc_id        100 non-null    int64 \n",
            " 2   label         100 non-null    int64 \n",
            " 3   text_content  96 non-null     object\n",
            "dtypes: int64(2), object(2)\n",
            "memory usage: 3.2+ KB\n"
          ]
        }
      ]
    },
    {
      "cell_type": "code",
      "source": [
        "df['text_content'] = df['text_content'].astype(str)"
      ],
      "metadata": {
        "id": "IW8ZMNqBY614"
      },
      "execution_count": 6,
      "outputs": []
    },
    {
      "cell_type": "code",
      "source": [
        "df.info()"
      ],
      "metadata": {
        "colab": {
          "base_uri": "https://localhost:8080/"
        },
        "id": "6FXmyaZb4CmU",
        "outputId": "256b191b-30b9-4961-ff18-53e7562f6ff7"
      },
      "execution_count": 37,
      "outputs": [
        {
          "output_type": "stream",
          "name": "stdout",
          "text": [
            "<class 'pandas.core.frame.DataFrame'>\n",
            "RangeIndex: 100 entries, 0 to 99\n",
            "Data columns (total 5 columns):\n",
            " #   Column             Non-Null Count  Dtype \n",
            "---  ------             --------------  ----- \n",
            " 0   url                100 non-null    object\n",
            " 1   doc_id             100 non-null    int64 \n",
            " 2   label              100 non-null    int64 \n",
            " 3   text_content       100 non-null    object\n",
            " 4   detected_language  100 non-null    object\n",
            "dtypes: int64(2), object(3)\n",
            "memory usage: 4.0+ KB\n"
          ]
        }
      ]
    },
    {
      "cell_type": "code",
      "source": [
        "from bs4 import BeautifulSoup\n",
        "import re\n",
        "import pandas as pd\n",
        "\n",
        "# Function to clean HTML text based on language\n",
        "def clean_html_text_by_language(html_content):\n",
        "\n",
        "        soup = BeautifulSoup(html_content, 'html.parser')\n",
        "        text = soup.get_text()\n",
        "\n",
        "\n",
        "\n",
        "        # Language-specific cleaning\n",
        "\n",
        "            # English-specific cleaning\n",
        "        cleaned_text = re.sub(r'[^a-zA-Z\\s]', '', text)\n",
        "        cleaned_text = re.sub(r'\\s+', ' ', cleaned_text)\n",
        "        cleaned_text = cleaned_text.lower()\n",
        "\n",
        "\n",
        "        return cleaned_text\n",
        "\n",
        "\n",
        "\n",
        "# Assuming 'df' is your DataFrame and 'html_text_column' is the column with HTML text\n",
        "# Replace 'html_text_column' with the actual column name containing HTML text\n"
      ],
      "metadata": {
        "id": "HUwAXxyxBFwk"
      },
      "execution_count": 9,
      "outputs": []
    },
    {
      "cell_type": "code",
      "source": [
        "df['cleaned_text'] = df['text_content'].apply(clean_html_text_by_language)\n"
      ],
      "metadata": {
        "id": "2mm8BANCCteB"
      },
      "execution_count": 10,
      "outputs": []
    },
    {
      "cell_type": "code",
      "source": [
        "from gensim.parsing import preprocessing\n",
        "\n",
        "\n",
        "def preprocess_html_text(html_text: str) -> str:\n",
        "    preprocessed_text = preprocessing.strip_non_alphanum(s=html_text)\n",
        "    preprocessed_text = preprocessing.strip_multiple_whitespaces(s=preprocessed_text)\n",
        "    preprocessed_text = preprocessing.strip_punctuation(s=preprocessed_text)\n",
        "    preprocessed_text = preprocessing.strip_numeric(s=preprocessed_text)\n",
        "\n",
        "    preprocessed_text = preprocessing.stem_text(text=preprocessed_text)\n",
        "    preprocessed_text = preprocessing.remove_stopwords(s=preprocessed_text)\n",
        "    return preprocessed_text\n",
        "\n",
        "\n"
      ],
      "metadata": {
        "id": "0vAZ3f3XCwNO"
      },
      "execution_count": 11,
      "outputs": []
    },
    {
      "cell_type": "code",
      "source": [
        "df[\"cleaned_text\"] = df[\"cleaned_text\"].apply(preprocess_html_text)"
      ],
      "metadata": {
        "id": "a0_HIDMGh6I6"
      },
      "execution_count": 12,
      "outputs": []
    },
    {
      "cell_type": "code",
      "source": [
        "# Check for missing data using heatmap. Looks like we are good to go with missing data handling\n",
        "missing_data = df.isnull().sum()\n",
        "\n",
        "# Visualize missing data\n",
        "plt.figure(figsize=(10, 6))\n",
        "sns.heatmap(df.isnull(), cbar=False, cmap='viridis')\n",
        "plt.title('Missing Data Heatmap')\n",
        "plt.show()"
      ],
      "metadata": {
        "colab": {
          "base_uri": "https://localhost:8080/",
          "height": 545
        },
        "id": "y-BDELzoCywz",
        "outputId": "d4d6f1d2-f8b8-484d-f2ca-e2577d0a4fb4"
      },
      "execution_count": 13,
      "outputs": [
        {
          "output_type": "display_data",
          "data": {
            "text/plain": [
              "<Figure size 1000x600 with 1 Axes>"
            ],
            "image/png": "[encoded data removed]"
          },
          "metadata": {}
        }
      ]
    },
    {
      "cell_type": "markdown",
      "source": [
        "# Exploratory Data Analysis"
      ],
      "metadata": {
        "id": "PJiyHa7WMrEA"
      }
    },
    {
      "cell_type": "code",
      "source": [
        "import plotly.express as px\n",
        "import plotly.offline as pyo\n",
        "\n",
        "# set notebook mode to work in offline\n",
        "pyo.init_notebook_mode(connected=True)"
      ],
      "metadata": {
        "colab": {
          "base_uri": "https://localhost:8080/",
          "height": 17
        },
        "id": "F_5sMrLnhIl2",
        "outputId": "cd15cc10-37c5-43b7-cf21-624f5f2571f4"
      },
      "execution_count": 14,
      "outputs": [
        {
          "output_type": "display_data",
          "data": {
            "text/html": [
              "        <script type=\"text/javascript\">\n",
              "        window.PlotlyConfig = {MathJaxConfig: 'local'};\n",
              "        if (window.MathJax && window.MathJax.Hub && window.MathJax.Hub.Config) {window.MathJax.Hub.Config({SVG: {font: \"STIX-Web\"}});}\n",
              "        if (typeof require !== 'undefined') {\n",
              "        require.undef(\"plotly\");\n",
              "        requirejs.config({\n",
              "            paths: {\n",
              "                'plotly': ['https://cdn.plot.ly/plotly-2.24.1.min']\n",
              "            }\n",
              "        });\n",
              "        require(['plotly'], function(Plotly) {\n",
              "            window._Plotly = Plotly;\n",
              "        });\n",
              "        }\n",
              "        </script>\n",
              "        "
            ]
          },
          "metadata": {}
        }
      ]
    },
    {
      "cell_type": "markdown",
      "source": [
        "There is one document with 170-179K characters. Others are with < 50K character count in total."
      ],
      "metadata": {
        "id": "dTMtuvacPP4q"
      }
    },
    {
      "cell_type": "code",
      "source": [
        "# Assuming df[\"cleaned_text\"] contains the cleaned text data\n",
        "text_lengths = df[\"cleaned_text\"].apply(len)\n",
        "\n",
        "# Create a histogram using Matplotlib\n",
        "plt.hist(text_lengths, bins=30, color='skyblue', edgecolor='black')\n",
        "plt.title('Distribution of Text Length (Character Count)')\n",
        "plt.xlabel('Text Length')\n",
        "plt.ylabel('Frequency')\n",
        "plt.grid(True)\n",
        "plt.show()"
      ],
      "metadata": {
        "colab": {
          "base_uri": "https://localhost:8080/",
          "height": 472
        },
        "id": "_6U9Ot_5Mzqs",
        "outputId": "5813813f-173e-44a7-a961-985dcbeaa651"
      },
      "execution_count": 19,
      "outputs": [
        {
          "output_type": "display_data",
          "data": {
            "text/plain": [
              "<Figure size 640x480 with 1 Axes>"
            ],
            "image/png": "[encoded data removed]"
          },
          "metadata": {}
        }
      ]
    },
    {
      "cell_type": "markdown",
      "source": [
        "There is one document with 27-28K words. Other documents all have < 6K words in total."
      ],
      "metadata": {
        "id": "DP_EiGjuPWDv"
      }
    },
    {
      "cell_type": "code",
      "source": [
        "# Assuming df[\"cleaned_text\"] contains the cleaned text data\n",
        "word_lengths = df[\"cleaned_text\"].apply(lambda text: len(text.split(\" \")))\n",
        "\n",
        "# Create a histogram using Matplotlib\n",
        "plt.hist(word_lengths, bins=30, color='skyblue', edgecolor='black')\n",
        "plt.title('Distribution of Text Length (Word Count)')\n",
        "plt.xlabel('Word Count')\n",
        "plt.ylabel('Frequency')\n",
        "plt.grid(True)\n",
        "plt.show()"
      ],
      "metadata": {
        "colab": {
          "base_uri": "https://localhost:8080/",
          "height": 472
        },
        "id": "h4cAQBceM68T",
        "outputId": "d0ef01f4-05b2-4bae-a5c8-71f7ebc8b144"
      },
      "execution_count": 20,
      "outputs": [
        {
          "output_type": "display_data",
          "data": {
            "text/plain": [
              "<Figure size 640x480 with 1 Axes>"
            ],
            "image/png": "[encoded data removed]"
          },
          "metadata": {}
        }
      ]
    },
    {
      "cell_type": "markdown",
      "source": [
        "There is one document with 6500-7000 unique words. All others consist of < 2000 unique words."
      ],
      "metadata": {
        "id": "zXYejfM2QG-M"
      }
    },
    {
      "cell_type": "code",
      "source": [
        "# Assuming train_csv[\"preprocessed_html_text\"] contains the preprocessed text data\n",
        "unique_words_count = df[\"cleaned_text\"].apply(lambda text: len(set(text.split(\" \"))))\n",
        "\n",
        "# Create a histogram using Matplotlib\n",
        "plt.hist(unique_words_count, bins=30, color='skyblue', edgecolor='black')\n",
        "plt.title('Unique Words Count')\n",
        "plt.xlabel('Count of Unique Words')\n",
        "plt.ylabel('Frequency')\n",
        "plt.grid(True)\n",
        "plt.show()"
      ],
      "metadata": {
        "colab": {
          "base_uri": "https://localhost:8080/",
          "height": 472
        },
        "id": "jSNjY8sLNC8c",
        "outputId": "7a970173-cac5-416e-e91f-bef73570f23b"
      },
      "execution_count": 22,
      "outputs": [
        {
          "output_type": "display_data",
          "data": {
            "text/plain": [
              "<Figure size 640x480 with 1 Axes>"
            ],
            "image/png": "[encoded data removed]"
          },
          "metadata": {}
        }
      ]
    },
    {
      "cell_type": "markdown",
      "source": [
        "# Modeling"
      ],
      "metadata": {
        "id": "-7oZdg0uQKub"
      }
    },
    {
      "cell_type": "markdown",
      "source": [
        "To solve our task, which falls under the umbrella of natural language processing, we will use a model called the siamese network. Siamese networks are able to address the class imbalance and small data set sizes. They are mostly used in few shots learning tasks, like signature verification systems, face recognition, object detection, etc."
      ],
      "metadata": {
        "id": "o7H6Eq07QOWS"
      }
    },
    {
      "cell_type": "code",
      "source": [
        "import random\n",
        "import numpy as np\n",
        "import tensorflow as tf\n",
        "\n",
        "# set the random seeds\n",
        "np.random.seed(42)\n",
        "tf.random.set_seed(seed=42)"
      ],
      "metadata": {
        "id": "Fm9G-LzzO1G1"
      },
      "execution_count": 23,
      "outputs": []
    },
    {
      "cell_type": "markdown",
      "source": [
        "## **Data Generators**\n",
        "While it is not crucial in this task, we would like to show how to properly use Tensorflow (and Keras) by implementing a data generator class."
      ],
      "metadata": {
        "id": "f8CxJdfwQWd3"
      }
    },
    {
      "cell_type": "code",
      "source": [
        "class Pair(tf.keras.utils.Sequence):\n",
        "    def __init__(self, dataframe: pd.DataFrame, labels: pd.Series, n_batch: int, batch_size: int):\n",
        "        self.dataframe = dataframe\n",
        "        self.labels = labels\n",
        "        self.n_batch = n_batch\n",
        "        self.batch_size = batch_size\n",
        "        self.all_classes = set(self.labels)\n",
        "        self.anchor_groups = {}\n",
        "        for target_class in self.all_classes:\n",
        "            self.anchor_groups[target_class] = {\n",
        "                \"positive\": self.dataframe[self.labels == target_class],\n",
        "                \"negative\": self.dataframe[self.labels != target_class]\n",
        "            }\n",
        "\n",
        "    def __len__(self):\n",
        "        return self.n_batch\n",
        "\n",
        "    def __getitem__(self, item):\n",
        "        pairs = []\n",
        "\n",
        "        for i in range(int(self.batch_size / 2)):\n",
        "            anchor_class = random.randint(1, 3)\n",
        "            anchor_group = self.anchor_groups[anchor_class][\"positive\"]\n",
        "            not_anchor_group = self.anchor_groups[anchor_class][\"negative\"]\n",
        "\n",
        "            anchor = anchor_group.sample(n=1).iloc[0]\n",
        "            positive = anchor_group.sample(n=1).iloc[0]\n",
        "            negative = not_anchor_group.sample(n=1).iloc[0]\n",
        "\n",
        "            pairs.append([anchor, positive, 1])\n",
        "            pairs.append([anchor, negative, 0])\n",
        "\n",
        "        random.shuffle(x=pairs)\n",
        "        pairs = np.array(pairs)\n",
        "\n",
        "        data_pairs = pairs[:, :2]\n",
        "        targets = pairs[:, 2]\n",
        "\n",
        "        return data_pairs, tf.convert_to_tensor(targets, dtype=np.float32)\n",
        "\n",
        "    def get_support_set(self, sample_size: int = 1):\n",
        "        support_set = {}\n",
        "        for target_class in self.all_classes:\n",
        "            support_set[target_class] = self.anchor_groups[target_class][\"positive\"].sample(n=sample_size)\n",
        "        return support_set"
      ],
      "metadata": {
        "id": "7zH-nI1aQSJX"
      },
      "execution_count": 24,
      "outputs": []
    },
    {
      "cell_type": "markdown",
      "source": [
        "## **Model Definition**\n",
        "Here, we define our model, as a siamese network. The model is a sequence of layers, starting with a TextVectorization layer. This layer accepts natural language (text) as input, and maps it to an integer sequence. At initialization time, we should provide a vocabulary of words for it to be able to map the words at prediction time.\n",
        "\n",
        "Following the text vectorization layer, we implement three Dense layers, with two Dropout layers in between. Lastly, we apply a L2 normalization layer to penalize large weights."
      ],
      "metadata": {
        "id": "g-2Z9kFuQmVX"
      }
    },
    {
      "cell_type": "code",
      "source": [
        "class SiameseNetwork(tf.keras.Model):\n",
        "    def __init__(self, corpora: pd.Series):\n",
        "        super(SiameseNetwork, self).__init__()\n",
        "        self.vectorizer_layer: tf.keras.layers.TextVectorization = tf.keras.layers.TextVectorization(\n",
        "            max_tokens=2000,\n",
        "            output_mode=\"int\",\n",
        "            output_sequence_length=512\n",
        "        )\n",
        "        self.vectorizer_layer.adapt(corpora.values)\n",
        "        self.encoder = tf.keras.Sequential(layers=[\n",
        "            self.vectorizer_layer,\n",
        "            tf.keras.layers.Dense(units=256, activation=tf.keras.activations.relu),\n",
        "            tf.keras.layers.Dropout(rate=0.3),\n",
        "            tf.keras.layers.Dense(units=128, activation=tf.keras.activations.relu),\n",
        "            tf.keras.layers.Dropout(rate=0.3),\n",
        "            tf.keras.layers.Dense(units=64, activation=tf.keras.activations.relu),\n",
        "            tf.keras.layers.Lambda(function=lambda x: tf.math.l2_normalize(x, axis=1))\n",
        "        ])\n",
        "        self.encoding_distance = tf.keras.layers.Dot(axes=1)\n",
        "\n",
        "    def __call__(self, inputs, *args, **kwargs):\n",
        "        anchors, supports = inputs[:, 0], inputs[:, 1]\n",
        "        anchors_encoded = self.encoder(anchors)\n",
        "        supports_encoded = self.encoder(supports)\n",
        "        return self.encoding_distance((anchors_encoded, supports_encoded))\n",
        "\n",
        "    def predict_with_support_set(self, entry, support_set: dict):\n",
        "        scores = {}\n",
        "        for instance_class, texts in support_set.items():\n",
        "            class_scores = ([self(np.array([entry, text]).reshape((-1, 2))) for text in texts])\n",
        "            scores[instance_class] = tf.math.reduce_mean(class_scores)\n",
        "        return max(scores, key=scores.get)"
      ],
      "metadata": {
        "id": "tNWnZOU5QjDV"
      },
      "execution_count": 25,
      "outputs": []
    },
    {
      "cell_type": "code",
      "source": [
        "model = SiameseNetwork(corpora=df[\"cleaned_text\"])"
      ],
      "metadata": {
        "id": "4BooR9PCQsGT"
      },
      "execution_count": 26,
      "outputs": []
    },
    {
      "cell_type": "code",
      "source": [
        "model.compile(loss='binary_crossentropy', optimizer='adam', metrics='binary_accuracy')"
      ],
      "metadata": {
        "id": "kATQZ00SQ2na"
      },
      "execution_count": 27,
      "outputs": []
    },
    {
      "cell_type": "markdown",
      "source": [
        "At this point, we have our model, our data, and the data generator. We are ready to commence training.\n",
        "\n",
        "But, before we do that, let's split the data in train_csv into training and validation sets."
      ],
      "metadata": {
        "id": "dxC9HbtaRB9v"
      }
    },
    {
      "cell_type": "code",
      "source": [
        "from sklearn.model_selection import train_test_split\n",
        "\n",
        "X_train, X_valid, y_train, y_valid = train_test_split(df[\"cleaned_text\"], df[\"label\"],\n",
        "                                                      test_size=0.2,\n",
        "                                                      random_state=42, stratify=df[\"label\"])"
      ],
      "metadata": {
        "id": "u3JFpcrtQ8vu"
      },
      "execution_count": 28,
      "outputs": []
    },
    {
      "cell_type": "code",
      "source": [
        "# training params\n",
        "BATCH_SIZE = 64\n",
        "N_BATCH = 100\n",
        "# we instantiate training and validation data / pair generators\n",
        "TRAIN_PAIR_GENERATOR = Pair(dataframe=X_train, labels=y_train, n_batch=N_BATCH, batch_size=BATCH_SIZE)\n",
        "VALID_PAIR_GENERATOR = Pair(dataframe=X_valid, labels=y_valid, n_batch=N_BATCH, batch_size=BATCH_SIZE)"
      ],
      "metadata": {
        "id": "EkH9nv5uRQWx"
      },
      "execution_count": 29,
      "outputs": []
    },
    {
      "cell_type": "markdown",
      "source": [
        "Finally, we put in an early stopping callback method that will stop the training prematurely if the validation loss does not decrease for 3 straight epochs."
      ],
      "metadata": {
        "id": "P9TQqBBlRW-2"
      }
    },
    {
      "cell_type": "code",
      "source": [
        "early_stopping_callback = tf.keras.callbacks.EarlyStopping(monitor=\"val_loss\", patience=3)"
      ],
      "metadata": {
        "id": "MVM0OlYZRTnU"
      },
      "execution_count": 30,
      "outputs": []
    },
    {
      "cell_type": "code",
      "source": [
        "history = model.fit(\n",
        "    x=TRAIN_PAIR_GENERATOR,\n",
        "    validation_data=VALID_PAIR_GENERATOR,\n",
        "    epochs=10,\n",
        "    callbacks=[early_stopping_callback],\n",
        "    verbose=1\n",
        ")"
      ],
      "metadata": {
        "colab": {
          "base_uri": "https://localhost:8080/"
        },
        "id": "uvxI4D-iRbYv",
        "outputId": "730c6679-47b9-4961-b955-4f9e2d475214"
      },
      "execution_count": 31,
      "outputs": [
        {
          "output_type": "stream",
          "name": "stdout",
          "text": [
            "Epoch 1/10\n",
            "100/100 [==============================] - 64s 605ms/step - loss: 0.3877 - binary_accuracy: 0.8333 - val_loss: 0.8263 - val_binary_accuracy: 0.6605\n",
            "Epoch 2/10\n",
            "100/100 [==============================] - 51s 512ms/step - loss: 0.2988 - binary_accuracy: 0.8803 - val_loss: 0.9787 - val_binary_accuracy: 0.6800\n",
            "Epoch 3/10\n",
            "100/100 [==============================] - 45s 448ms/step - loss: 0.2823 - binary_accuracy: 0.8783 - val_loss: 0.9506 - val_binary_accuracy: 0.6580\n",
            "Epoch 4/10\n",
            "100/100 [==============================] - 44s 443ms/step - loss: 0.2683 - binary_accuracy: 0.8816 - val_loss: 0.9778 - val_binary_accuracy: 0.6781\n"
          ]
        }
      ]
    },
    {
      "cell_type": "markdown",
      "source": [
        "### Model Evaluation\n",
        "Once we finish with the model training we can start evaluating the produced model. All training information is stored in the history object that is returned by the model.fit() method. In the plots below, we plot the model's training and validation accuracy and loss over the number of epochs."
      ],
      "metadata": {
        "id": "GHyA40sJTsT3"
      }
    },
    {
      "cell_type": "code",
      "source": [
        "import plotly.graph_objects as go"
      ],
      "metadata": {
        "id": "KdQoc-rYRfPn"
      },
      "execution_count": 32,
      "outputs": []
    },
    {
      "cell_type": "code",
      "source": [
        "# Assuming history.history contains the training and validation accuracy values\n",
        "epochs = range(1, len(history.history[\"binary_accuracy\"]) + 1)\n",
        "\n",
        "plt.plot(epochs, history.history[\"binary_accuracy\"], 'b', label='Training Accuracy')\n",
        "plt.plot(epochs, history.history[\"val_binary_accuracy\"], 'r', label='Validation Accuracy')\n",
        "plt.title('Model Accuracy During Training')\n",
        "plt.xlabel('Epoch')\n",
        "plt.ylabel('Accuracy')\n",
        "plt.legend()\n",
        "plt.grid(True)\n",
        "plt.show()"
      ],
      "metadata": {
        "colab": {
          "base_uri": "https://localhost:8080/",
          "height": 472
        },
        "id": "pOJBqt-gT0T6",
        "outputId": "45f1cf1e-1d0d-4004-94d8-4663766443dd"
      },
      "execution_count": 34,
      "outputs": [
        {
          "output_type": "display_data",
          "data": {
            "text/plain": [
              "<Figure size 640x480 with 1 Axes>"
            ],
            "image/png": "[encoded data removed]"
          },
          "metadata": {}
        }
      ]
    },
    {
      "cell_type": "code",
      "source": [
        "# Assuming history.history contains the training and validation loss values\n",
        "epochs = range(1, len(history.history[\"loss\"]) + 1)\n",
        "\n",
        "plt.plot(epochs, history.history[\"loss\"], 'b', label='Training Loss')\n",
        "plt.plot(epochs, history.history[\"val_loss\"], 'r', label='Validation Loss')\n",
        "plt.title('Model Loss During Training')\n",
        "plt.xlabel('Epoch')\n",
        "plt.ylabel('Loss')\n",
        "plt.legend()\n",
        "plt.grid(True)\n",
        "plt.show()"
      ],
      "metadata": {
        "colab": {
          "base_uri": "https://localhost:8080/",
          "height": 472
        },
        "id": "f-xSvsv4T3rd",
        "outputId": "b06c8f1a-8b98-4bce-e444-02ac38f08bde"
      },
      "execution_count": 35,
      "outputs": [
        {
          "output_type": "display_data",
          "data": {
            "text/plain": [
              "<Figure size 640x480 with 1 Axes>"
            ],
            "image/png": "[encoded data removed]"
          },
          "metadata": {}
        }
      ]
    },
    {
      "cell_type": "markdown",
      "source": [
        "Let's try to make predictions on the validation set. The validation metrics are not indicative of the model's general performance on unseen data, since they have been used during the training process, therefore they are a bit optimistic. In general, we would expect the metrics to be lower in the production setting (though, not much lower - hopefully)."
      ],
      "metadata": {
        "id": "tHODPmuWUubO"
      }
    },
    {
      "cell_type": "code",
      "source": [
        "y_pred = X_valid.apply(lambda text: model.predict_with_support_set(\n",
        "    entry=text,\n",
        "    support_set=TRAIN_PAIR_GENERATOR.get_support_set(7)\n",
        "))"
      ],
      "metadata": {
        "id": "qggZqBmuUpgZ"
      },
      "execution_count": 36,
      "outputs": []
    },
    {
      "cell_type": "code",
      "source": [
        "# build a classification report\n",
        "from sklearn.metrics import classification_report\n",
        "\n",
        "report = classification_report(y_true=y_valid, y_pred=y_pred, zero_division=0)\n",
        "print(report)"
      ],
      "metadata": {
        "colab": {
          "base_uri": "https://localhost:8080/"
        },
        "id": "lf0Inp9EUxRr",
        "outputId": "e3ce9bb6-c2ad-452f-fbff-2b32b08d8a41"
      },
      "execution_count": 37,
      "outputs": [
        {
          "output_type": "stream",
          "name": "stdout",
          "text": [
            "              precision    recall  f1-score   support\n",
            "\n",
            "           1       0.80      0.67      0.73         6\n",
            "           2       0.73      0.92      0.81        12\n",
            "           3       0.00      0.00      0.00         2\n",
            "\n",
            "    accuracy                           0.75        20\n",
            "   macro avg       0.51      0.53      0.51        20\n",
            "weighted avg       0.68      0.75      0.71        20\n",
            "\n"
          ]
        }
      ]
    },
    {
      "cell_type": "markdown",
      "source": [
        "### Prediction\n",
        "We apply the same set of pre-processing steps as we did for the training data."
      ],
      "metadata": {
        "id": "3dLTEzY7U7_B"
      }
    },
    {
      "cell_type": "code",
      "source": [
        "test['text_content'] = test['url'].apply(extract_text)"
      ],
      "metadata": {
        "id": "wxoqAjp_U3b6"
      },
      "execution_count": 43,
      "outputs": []
    },
    {
      "cell_type": "code",
      "source": [
        "test[\"text_content\"] = test[\"text_content\"].apply(preprocess_html_text)"
      ],
      "metadata": {
        "id": "tOZG3SWNVCXy"
      },
      "execution_count": 44,
      "outputs": []
    },
    {
      "cell_type": "code",
      "source": [
        "# test.sample(n=5, random_state=42)"
      ],
      "metadata": {
        "id": "_-Ola4xTVikw"
      },
      "execution_count": 46,
      "outputs": []
    },
    {
      "cell_type": "code",
      "source": [
        "# do inference\n",
        "test[\"predictions\"] = test[\"text_content\"].apply(lambda text: model.predict_with_support_set(\n",
        "    entry=text,\n",
        "    support_set=TRAIN_PAIR_GENERATOR.get_support_set(sample_size=7)\n",
        "))"
      ],
      "metadata": {
        "id": "moar935nWQfl"
      },
      "execution_count": 48,
      "outputs": []
    },
    {
      "cell_type": "code",
      "source": [
        "test[\"predictions\"].value_counts()"
      ],
      "metadata": {
        "colab": {
          "base_uri": "https://localhost:8080/"
        },
        "id": "FwTQ9ol6WaMk",
        "outputId": "8013f2b5-841d-47c7-e810-e15ded853743"
      },
      "execution_count": 49,
      "outputs": [
        {
          "output_type": "execute_result",
          "data": {
            "text/plain": [
              "2    39\n",
              "1     9\n",
              "Name: predictions, dtype: int64"
            ]
          },
          "metadata": {},
          "execution_count": 49
        }
      ]
    },
    {
      "cell_type": "code",
      "source": [
        "test.columns"
      ],
      "metadata": {
        "colab": {
          "base_uri": "https://localhost:8080/"
        },
        "id": "ffVAgkp1WkVF",
        "outputId": "fc15a917-8160-4229-ef62-f8416a1564c0"
      },
      "execution_count": 52,
      "outputs": [
        {
          "output_type": "execute_result",
          "data": {
            "text/plain": [
              "Index(['url', 'doc_id', 'text_content', 'predictions'], dtype='object')"
            ]
          },
          "metadata": {},
          "execution_count": 52
        }
      ]
    },
    {
      "cell_type": "code",
      "source": [],
      "metadata": {
        "id": "eyC4IKpWWo5y"
      },
      "execution_count": null,
      "outputs": []
    }
  ]
}